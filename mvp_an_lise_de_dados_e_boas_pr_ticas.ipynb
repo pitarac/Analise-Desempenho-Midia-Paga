{
  "cells": [
    {
      "cell_type": "markdown",
      "metadata": {
        "id": "view-in-github",
        "colab_type": "text"
      },
      "source": [
        "<a href=\"https://colab.research.google.com/github/pitarac/Analise-Desempenho-Midia-Paga/blob/main/mvp_an_lise_de_dados_e_boas_pr_ticas.ipynb\" target=\"_parent\"><img src=\"https://colab.research.google.com/assets/colab-badge.svg\" alt=\"Open In Colab\"/></a>"
      ]
    },
    {
      "cell_type": "markdown",
      "metadata": {
        "id": "9uQehDNXlHhp"
      },
      "source": [
        "# Indentificação:\n"
      ]
    },
    {
      "cell_type": "markdown",
      "metadata": {
        "id": "cnwo1Rxyg5_m"
      },
      "source": [
        "\n",
        "\n",
        "\n",
        "<p align=\"center\">\n",
        "  <img src=\"https://github.com/pitarac/mvp-sprint-1/blob/main/IMG/Sprint.png?raw=true\" alt=\"Imagem com um globo com diversos traços o que passa a ideia de tecnologia, e a escreita Sprint-1, na linha de baixo Análise de dados e boas praticas.\"/>\n",
        "</p>\n"
      ]
    },
    {
      "cell_type": "markdown",
      "metadata": {
        "id": "378m6r6Wj88X"
      },
      "source": [
        "\n",
        "**Nome do aluno:** Paulo Henrique Lima da Silva CPF: 032.838.091-19\n",
        "**Disciplina:** Sprint I Análise de Dados e Boas Práticas(40530010056_20230_01)  \n",
        "**Curso:** Ciência de Dados e Analytics  \n",
        "**Instituição:** PUC-Rio\n"
      ]
    },
    {
      "cell_type": "markdown",
      "metadata": {
        "id": "tq0Aq3p1lWjm"
      },
      "source": [
        "# Introdução ao Projeto de Análise de Dados\n",
        "\n"
      ]
    },
    {
      "cell_type": "markdown",
      "metadata": {
        "id": "yaiMn6RWsWt8"
      },
      "source": [
        "## Apresentação\n",
        "\n",
        "Olá, Professores! Meu nome é Paulo Henrique e este é o projeto que desenvolvi para a disciplina de Análise de Dados e Boas Práticas. O objetivo deste trabalho é aplicar os conhecimentos adquiridos durante a SPRINT em um contexto prático e realista de análise de dados.\n",
        "\n",
        "## Escolha do Dataset\n",
        "\n",
        "Para este projeto, a base de dados escolhida é [Nome do Dataset], que encontrei no repositório [Nome do Repositório]. Escolhi esse dataset porque [Breve justificativa da escolha do dataset].\n",
        "\n",
        "\n",
        "## Metodologia\n",
        "\n",
        "Neste projeto, seguirei as etapas de análise de dados conforme aprendido nas disciplinas de Análise Exploratória e Pré-processamento de Dados. As etapas incluem:\n",
        "\n",
        "1. **Definição do Problema**: Descreverei o problema de forma clara e estabelecerei os objetivos da análise.\n",
        "\n",
        "2. **Análise Exploratória de Dados**: Explorarei o dataset para entender melhor os dados disponíveis, incluindo estatísticas descritivas e visualizações.\n",
        "\n",
        "3. **Pré-processamento de Dados**: Realizarei as operações necessárias de limpeza e preparação dos dados para análise.\n",
        "\n",
        "4. **Análise de Dados**: Com base nos dados pré-processados, realizarei uma análise detalhada, buscando insights e respondendo às perguntas importantes relacionadas ao problema definido.\n",
        "\n",
        "## Estrutura do Notebook\n",
        "\n",
        "O notebook no Google Colab incluirá:\n",
        "\n",
        "- Descrições detalhadas de cada etapa do processo.\n",
        "- Código em Python, utilizando bibliotecas apropriadas.\n",
        "- Comentários e documentação para explicar as decisões tomadas durante a análise.\n",
        "\n",
        "## Observações Finais\n",
        "\n",
        "Este projeto é uma oportunidade para demonstrar as habilidades e conhecimentos que adquiri durante o curso. Estou ansioso para compartilhar minhas descobertas e aprender com este exercício prático.\n",
        "\n",
        "Agradeço pela orientação e pelo suporte ao longo deste curso.\n",
        "\n",
        "Atenciosamente,\n",
        "Paulo Henrique.\n",
        "\n"
      ]
    },
    {
      "cell_type": "markdown",
      "metadata": {
        "id": "iQ_03wVwr6XN"
      },
      "source": [
        "# Definição do Problema"
      ]
    },
    {
      "cell_type": "markdown",
      "metadata": {
        "id": "nCXBKV1xbA2z"
      },
      "source": [
        "#Acesso  a VPS que contem os arquivos csv\n"
      ]
    },
    {
      "cell_type": "code",
      "execution_count": null,
      "metadata": {
        "colab": {
          "base_uri": "https://localhost:8080/"
        },
        "id": "GTIO5MW-fEJA",
        "outputId": "c2388091-5cbf-4ab8-926a-9a00851881f4"
      },
      "outputs": [
        {
          "ename": "SyntaxError",
          "evalue": "invalid syntax (4206801020.py, line 1)",
          "output_type": "error",
          "traceback": [
            "\u001b[0;36m  Cell \u001b[0;32mIn[9], line 1\u001b[0;36m\u001b[0m\n\u001b[0;31m    apt-get install -y sshpass\u001b[0m\n\u001b[0m            ^\u001b[0m\n\u001b[0;31mSyntaxError\u001b[0m\u001b[0;31m:\u001b[0m invalid syntax\n"
          ]
        }
      ],
      "source": [
        "!apt-get install -y sshpass\n",
        "import os\n",
        "\n"
      ]
    },
    {
      "cell_type": "code",
      "execution_count": null,
      "metadata": {
        "id": "fiFR2b3hfHbv"
      },
      "outputs": [],
      "source": [
        "load_dotenv()\n",
        "\n",
        "try:\n",
        "    # Tentando importar userdata do Google Colab\n",
        "    from google.colab import userdata\n",
        "    user = userdata.get('User')\n",
        "    senha = userdata.get('Senha')\n",
        "    host = userdata.get('host')\n",
        "except ImportError:\n",
        "    # Fallback para variáveis de ambiente quando não estiver no Colab\n",
        "    user = os.getenv('User')\n",
        "    senha = os.getenv('Senha')\n",
        "    host = os.getenv('Host')\n"
      ]
    },
    {
      "cell_type": "code",
      "execution_count": null,
      "metadata": {
        "id": "cRVeeyTIji2I",
        "outputId": "a04b03f5-4887-447a-ace5-d46948262d38"
      },
      "outputs": [
        {
          "name": "stdout",
          "output_type": "stream",
          "text": [
            "zsh:1: no matches found: None@None:/var/www/dataset.consumidor.gov/*.csv\n"
          ]
        }
      ],
      "source": [
        "# Comando para transferir arquivos com sshpass\n",
        "!sshpass -p \"$senha\" scp -o UserKnownHostsFile=/dev/null -o StrictHostKeyChecking=no -r $user@$host:/var/www/dataset.consumidor.gov/*.csv /content/"
      ]
    },
    {
      "cell_type": "markdown",
      "metadata": {
        "id": "PNuYHndfaKQe"
      },
      "source": [
        "# Listar e Ler os Arquivos CSV"
      ]
    },
    {
      "cell_type": "code",
      "execution_count": null,
      "metadata": {
        "id": "8tC_telfaHEy"
      },
      "outputs": [],
      "source": [
        "import os\n",
        "import pandas as pd\n",
        "\n",
        "path = '/content/'  # Caminho onde os arquivos CSV foram salvos\n",
        "all_files = [os.path.join(path, f) for f in os.listdir(path) if f.endswith('.csv')]\n",
        "\n",
        "df_list = [pd.read_csv(file) for file in all_files]\n",
        "combined_df = pd.concat(df_list, ignore_index=True)\n"
      ]
    }
  ],
  "metadata": {
    "colab": {
      "provenance": [],
      "include_colab_link": true
    },
    "kernelspec": {
      "display_name": "Python 3",
      "name": "python3"
    },
    "language_info": {
      "codemirror_mode": {
        "name": "ipython",
        "version": 3
      },
      "file_extension": ".py",
      "mimetype": "text/x-python",
      "name": "python",
      "nbconvert_exporter": "python",
      "pygments_lexer": "ipython3",
      "version": "3.10.10"
    }
  },
  "nbformat": 4,
  "nbformat_minor": 0
}